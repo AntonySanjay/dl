{
  "nbformat": 4,
  "nbformat_minor": 0,
  "metadata": {
    "colab": {
      "provenance": []
    },
    "kernelspec": {
      "name": "python3",
      "display_name": "Python 3"
    },
    "language_info": {
      "name": "python"
    }
  },
  "cells": [
    {
      "cell_type": "code",
      "execution_count": null,
      "metadata": {
        "id": "__P4EntqQYuT"
      },
      "outputs": [],
      "source": [
        "import tensorflow as tf\n",
        "from tensorflow import keras\n",
        "from keras.datasets import reuters\n",
        "from keras.models import Sequential\n",
        "from keras.layers import Dense,LSTM,SimpleRNN,GRU,Activation\n",
        "from keras.utils import to_categorical\n",
        "from tensorflow.keras.preprocessing.sequence import pad_sequences\n",
        "from keras.optimizers import Adam"
      ]
    },
    {
      "cell_type": "code",
      "source": [
        "(x_train,y_train),(x_test,y_test)=reuters.load_data(num_words=None,maxlen=50,test_split=0.3)"
      ],
      "metadata": {
        "colab": {
          "base_uri": "https://localhost:8080/"
        },
        "id": "SvPZ-V1IR85W",
        "outputId": "4fb6af70-c632-42ef-d3d4-1fb3eba310f6"
      },
      "execution_count": null,
      "outputs": [
        {
          "output_type": "stream",
          "name": "stdout",
          "text": [
            "Downloading data from https://storage.googleapis.com/tensorflow/tf-keras-datasets/reuters.npz\n",
            "2110848/2110848 [==============================] - 0s 0us/step\n"
          ]
        }
      ]
    },
    {
      "cell_type": "code",
      "source": [
        "x_train.shape\n",
        "y_train.shape\n",
        "x_test.shape\n",
        "y_test.shape"
      ],
      "metadata": {
        "colab": {
          "base_uri": "https://localhost:8080/"
        },
        "id": "5ygdQ94BScOj",
        "outputId": "ea366789-dfff-4d64-b911-8a8bb7dc96b7"
      },
      "execution_count": null,
      "outputs": [
        {
          "output_type": "execute_result",
          "data": {
            "text/plain": [
              "(599,)"
            ]
          },
          "metadata": {},
          "execution_count": 8
        }
      ]
    },
    {
      "cell_type": "code",
      "source": [
        "from numpy.core.fromnumeric import shape\n",
        "import numpy as np\n",
        "x_train=pad_sequences(x_train,padding='post')\n",
        "x_test=pad_sequences(x_test,padding='post')\n",
        "x_train = np.array(x_train).reshape((x_train.shape[0],x_train.shape[1],1))\n",
        "x_test = np.array(x_test).reshape((x_test.shape[0],x_test.shape[1],1))\n",
        "y_data=np.concatenate((y_train,y_test))\n",
        "y_data=to_categorical(y_data)\n",
        "y_train=y_data[:1395]\n",
        "y_test=y_data[1395:]"
      ],
      "metadata": {
        "id": "ozTd0WsuS4hT"
      },
      "execution_count": null,
      "outputs": []
    },
    {
      "cell_type": "code",
      "source": [
        "model=Sequential()\n",
        "model.add(SimpleRNN(50,input_shape=(49,1)))\n",
        "model.add(Dense(46))\n",
        "model.add(Activation('softmax'))\n",
        "adam=Adam(learning_rate=0.001)"
      ],
      "metadata": {
        "id": "9FJyaxSWTsyl"
      },
      "execution_count": null,
      "outputs": []
    },
    {
      "cell_type": "code",
      "source": [
        "model.compile(loss='categorical_crossentropy',optimizer=adam,metrics=['accuracy'])"
      ],
      "metadata": {
        "id": "RsleBKwQWnia"
      },
      "execution_count": null,
      "outputs": []
    },
    {
      "cell_type": "code",
      "source": [
        "model.fit(x_train,y_train,validation_split=0.3,epochs=10)"
      ],
      "metadata": {
        "colab": {
          "base_uri": "https://localhost:8080/"
        },
        "id": "jRppa8OrW5Vh",
        "outputId": "17456798-9edd-4eab-eb5b-13cafdf02ffb"
      },
      "execution_count": null,
      "outputs": [
        {
          "output_type": "stream",
          "name": "stdout",
          "text": [
            "Epoch 1/10\n",
            "31/31 [==============================] - 2s 33ms/step - loss: 2.6359 - accuracy: 0.5543 - val_loss: 1.5518 - val_accuracy: 0.7160\n",
            "Epoch 2/10\n",
            "31/31 [==============================] - 0s 12ms/step - loss: 1.3455 - accuracy: 0.7141 - val_loss: 1.2323 - val_accuracy: 0.7160\n",
            "Epoch 3/10\n",
            "31/31 [==============================] - 0s 11ms/step - loss: 1.2200 - accuracy: 0.7141 - val_loss: 1.1879 - val_accuracy: 0.7160\n",
            "Epoch 4/10\n",
            "31/31 [==============================] - 0s 12ms/step - loss: 1.1865 - accuracy: 0.7141 - val_loss: 1.1700 - val_accuracy: 0.7160\n",
            "Epoch 5/10\n",
            "31/31 [==============================] - 0s 12ms/step - loss: 1.1739 - accuracy: 0.7141 - val_loss: 1.1644 - val_accuracy: 0.7160\n",
            "Epoch 6/10\n",
            "31/31 [==============================] - 1s 17ms/step - loss: 1.1691 - accuracy: 0.7141 - val_loss: 1.1548 - val_accuracy: 0.7160\n",
            "Epoch 7/10\n",
            "31/31 [==============================] - 1s 22ms/step - loss: 1.1594 - accuracy: 0.7141 - val_loss: 1.1574 - val_accuracy: 0.7160\n",
            "Epoch 8/10\n",
            "31/31 [==============================] - 1s 19ms/step - loss: 1.1597 - accuracy: 0.7141 - val_loss: 1.1550 - val_accuracy: 0.7160\n",
            "Epoch 9/10\n",
            "31/31 [==============================] - 1s 19ms/step - loss: 1.1550 - accuracy: 0.7141 - val_loss: 1.1532 - val_accuracy: 0.7160\n",
            "Epoch 10/10\n",
            "31/31 [==============================] - 1s 19ms/step - loss: 1.1551 - accuracy: 0.7141 - val_loss: 1.1513 - val_accuracy: 0.7160\n"
          ]
        },
        {
          "output_type": "execute_result",
          "data": {
            "text/plain": [
              "<keras.callbacks.History at 0x7c797c46da50>"
            ]
          },
          "metadata": {},
          "execution_count": 17
        }
      ]
    },
    {
      "cell_type": "code",
      "source": [
        "score = model.evaluate(x_test,y_test, verbose = 0)\n",
        "print('Test Loss: ', score[0])\n",
        "print('Test Accuracy: ', score[1])"
      ],
      "metadata": {
        "colab": {
          "base_uri": "https://localhost:8080/"
        },
        "id": "S-_H5sHtXNOO",
        "outputId": "e46fb65b-6a97-4eb4-ab95-6af48aec12ed"
      },
      "execution_count": null,
      "outputs": [
        {
          "output_type": "stream",
          "name": "stdout",
          "text": [
            "Test Loss:  1.1384626626968384\n",
            "Test Accuracy:  0.7479131817817688\n"
          ]
        }
      ]
    }
  ]
}